{
 "cells": [
  {
   "cell_type": "markdown",
   "metadata": {},
   "source": [
    "## Предсказание бинарных результатов\n",
    "#### Решение основано на методе линейной регрессии "
   ]
  },
  {
   "cell_type": "code",
   "execution_count": 27,
   "metadata": {},
   "outputs": [],
   "source": [
    "import numpy as np\n",
    "import matplotlib.pyplot as plt\n",
    "import statistics\n",
    "from sklearn.metrics import f1_score"
   ]
  },
  {
   "cell_type": "markdown",
   "metadata": {},
   "source": [
    "Собираем данные из файла \"train.csv\""
   ]
  },
  {
   "cell_type": "code",
   "execution_count": 19,
   "metadata": {},
   "outputs": [],
   "source": [
    "X = []\n",
    "Y = []\n",
    "i = 1\n",
    "with open('train.csv') as file:\n",
    "    line = file.readline()\n",
    "    while line and i < 6964:\n",
    "        line = file.readline().split(',')\n",
    "        for index, element in enumerate(line):\n",
    "            line[index] = float(element)\n",
    "        x_line = line[:-1]\n",
    "        target = line[-1]\n",
    "\n",
    "        X.append(x_line)\n",
    "        Y.append(target)\n",
    "        i+= 1"
   ]
  },
  {
   "cell_type": "markdown",
   "metadata": {},
   "source": [
    "Переводим списки в матрицы при помощи numpy и считаем матрицу коэффициентов W"
   ]
  },
  {
   "cell_type": "code",
   "execution_count": 20,
   "metadata": {},
   "outputs": [],
   "source": [
    "X = np.array([np.array(i) for i in X], dtype=np.dtype(float))  \n",
    "Y = np.array(Y, dtype=np.dtype(int))"
   ]
  },
  {
   "cell_type": "code",
   "execution_count": 21,
   "metadata": {},
   "outputs": [],
   "source": [
    "n = int(Y.shape[0])\n",
    "Y = np.array(Y).reshape(n, 1)\n",
    "X_T = np.transpose(X)\n",
    "W = (np.linalg.inv(X_T.dot(X)).dot(X_T)).dot(Y)"
   ]
  },
  {
   "cell_type": "markdown",
   "metadata": {},
   "source": [
    "Анализируем способ перевода в бинарные значения"
   ]
  },
  {
   "cell_type": "code",
   "execution_count": 51,
   "metadata": {},
   "outputs": [
    {
     "data": {
      "image/png": "[encoded data removed]",
      "text/plain": [
       "<Figure size 432x288 with 1 Axes>"
      ]
     },
     "metadata": {
      "needs_background": "light"
     },
     "output_type": "display_data"
    },
    {
     "data": {
      "image/png": "[encoded data removed]",
      "text/plain": [
       "<Figure size 432x288 with 1 Axes>"
      ]
     },
     "metadata": {
      "needs_background": "light"
     },
     "output_type": "display_data"
    }
   ],
   "source": [
    "Y_predicted = X.dot(W)\n",
    "plt.hist(Y_predicted)\n",
    "plt.title('Предсказанные')\n",
    "plt.show()\n",
    "\n",
    "plt.hist(Y)\n",
    "plt.title('Тестовые')\n",
    "plt.show()"
   ]
  },
  {
   "cell_type": "markdown",
   "metadata": {},
   "source": [
    "Пробуем очевидное решение и смотртим на метрику f1_score"
   ]
  },
  {
   "cell_type": "code",
   "execution_count": 48,
   "metadata": {},
   "outputs": [],
   "source": [
    "Y_bin = []\n",
    "change_value = 0.5\n",
    "for value in Y_predicted:\n",
    "    if value[0] > change_value:\n",
    "        Y_bin.append(1)\n",
    "    else:\n",
    "        Y_bin.append(0)\n"
   ]
  },
  {
   "cell_type": "code",
   "execution_count": 49,
   "metadata": {},
   "outputs": [
    {
     "name": "stdout",
     "output_type": "stream",
     "text": [
      "0.7167147898620468\n"
     ]
    }
   ],
   "source": [
    "res = f1_score(Y, Y_bin)\n",
    "print(res) "
   ]
  },
  {
   "cell_type": "markdown",
   "metadata": {},
   "source": [
    "Пробуем делать лучше и подобрать правильное число change_value, для определения бинарного значения"
   ]
  },
  {
   "cell_type": "code",
   "execution_count": 45,
   "metadata": {},
   "outputs": [
    {
     "data": {
      "image/png": "[encoded data removed]",
      "text/plain": [
       "<Figure size 432x288 with 1 Axes>"
      ]
     },
     "metadata": {
      "needs_background": "light"
     },
     "output_type": "display_data"
    }
   ],
   "source": [
    "Y_predicted = X.dot(W)\n",
    "plt.hist(Y_predicted)\n",
    "plt.title('Предсказанные')\n",
    "plt.show()\n"
   ]
  },
  {
   "cell_type": "markdown",
   "metadata": {},
   "source": [
    "# Посчитать сколько чисел принимает значение 1 в Y это n и посмтреть до какого значения в Y_predicted дойти чтобы набрать n значений"
   ]
  },
  {
   "cell_type": "code",
   "execution_count": 18,
   "metadata": {},
   "outputs": [
    {
     "name": "stdout",
     "output_type": "stream",
     "text": [
      "71.27674852793336\n"
     ]
    }
   ],
   "source": [
    "y_len = len(Y)\n",
    "zeros = 0\n",
    "for i in Y:\n",
    "    if i[0] == 0:\n",
    "        zeros += 1\n",
    "print(zeros*100/y_len)"
   ]
  },
  {
   "cell_type": "code",
   "execution_count": 19,
   "metadata": {},
   "outputs": [
    {
     "name": "stdout",
     "output_type": "stream",
     "text": [
      "6963\n"
     ]
    }
   ],
   "source": [
    "print(len(Y_my))"
   ]
  },
  {
   "cell_type": "code",
   "execution_count": 20,
   "metadata": {},
   "outputs": [
    {
     "name": "stdout",
     "output_type": "stream",
     "text": [
      "4962\n"
     ]
    }
   ],
   "source": [
    "y_test = sorted(Y_my.tolist())\n",
    "zeros_p = 0\n",
    "for i in y_test:\n",
    "    if i[0] < 0.40732:\n",
    "        zeros_p += 1\n",
    "print(zeros_p)"
   ]
  },
  {
   "cell_type": "code",
   "execution_count": 21,
   "metadata": {},
   "outputs": [],
   "source": [
    "data = []"
   ]
  },
  {
   "cell_type": "code",
   "execution_count": 22,
   "metadata": {},
   "outputs": [],
   "source": [
    "for i in Y_my:\n",
    "    if i < 0.40678:\n",
    "        numb = 0\n",
    "    else:\n",
    "        numb = 1\n",
    "    data.append(numb)"
   ]
  },
  {
   "cell_type": "code",
   "execution_count": 23,
   "metadata": {},
   "outputs": [],
   "source": [
    "res = 0"
   ]
  },
  {
   "cell_type": "code",
   "execution_count": 24,
   "metadata": {},
   "outputs": [],
   "source": [
    "for index, d in enumerate(data):\n",
    "    if d == Y[index]:\n",
    "        res += 1\n"
   ]
  },
  {
   "cell_type": "code",
   "execution_count": 25,
   "metadata": {},
   "outputs": [],
   "source": [
    "m_res = len(Y)"
   ]
  },
  {
   "cell_type": "code",
   "execution_count": 26,
   "metadata": {},
   "outputs": [
    {
     "name": "stdout",
     "output_type": "stream",
     "text": [
      "6963 6539 93.91067068792188\n"
     ]
    }
   ],
   "source": [
    "print(m_res, res, res*100/m_res)"
   ]
  },
  {
   "cell_type": "code",
   "execution_count": null,
   "metadata": {},
   "outputs": [],
   "source": [
    "Y_predicted = X.dot(W)\n",
    "a = f1_score(Y, Y_predicted)\n",
    "print(a)"
   ]
  },
  {
   "cell_type": "markdown",
   "metadata": {},
   "source": [
    "Используем рассчитанные коэффициенты для предсказания private данных"
   ]
  },
  {
   "cell_type": "code",
   "execution_count": 52,
   "metadata": {},
   "outputs": [],
   "source": [
    "X_new = []\n",
    "i = 1\n",
    "with open(\"test.csv\") as file:\n",
    "    line = file.readline()\n",
    "    while i < 3921:\n",
    "        line = file.readline().split(',')\n",
    "        for index, element in enumerate(line):\n",
    "            line[index] = float(element)\n",
    "        X_new.append(line)\n",
    "        i += 1\n",
    "X_new = np.array([np.array(i) for i in X_new], dtype=np.dtype(float))"
   ]
  },
  {
   "cell_type": "code",
   "execution_count": 53,
   "metadata": {},
   "outputs": [],
   "source": [
    "Y_trained = X_new.dot(W)"
   ]
  },
  {
   "cell_type": "code",
   "execution_count": 54,
   "metadata": {},
   "outputs": [],
   "source": [
    "data_out = []\n",
    "for i in Y_trained:\n",
    "    if i > change_value:\n",
    "        numb = 1\n",
    "    else:\n",
    "        numb = 0\n",
    "    data_out.append(numb)"
   ]
  },
  {
   "cell_type": "code",
   "execution_count": 57,
   "metadata": {},
   "outputs": [],
   "source": [
    "data_to_csv = 'target\\n'\n",
    "for value in data_out:\n",
    "    line = f'{value}\\n'\n",
    "    data_to_csv += line\n",
    "    \n",
    "with open (\"predicted.csv\", 'w') as file:\n",
    "    file.writelines(data_to_csv)\n"
   ]
  }
 ],
 "metadata": {
  "kernelspec": {
   "display_name": "Python 3",
   "language": "python",
   "name": "python3"
  },
  "language_info": {
   "codemirror_mode": {
    "name": "ipython",
    "version": 3
   },
   "file_extension": ".py",
   "mimetype": "text/x-python",
   "name": "python",
   "nbconvert_exporter": "python",
   "pygments_lexer": "ipython3",
   "version": "3.8.5"
  }
 },
 "nbformat": 4,
 "nbformat_minor": 4
}
